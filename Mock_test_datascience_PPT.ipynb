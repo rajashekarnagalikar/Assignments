{
 "cells": [
  {
   "cell_type": "raw",
   "id": "eec0b5d5",
   "metadata": {},
   "source": [
    "Write a function that takes a list of numbers as input and returns a new list containing only the even numbers from the input list. Use list comprehension to solve this problem."
   ]
  },
  {
   "cell_type": "code",
   "execution_count": 36,
   "id": "480e9991",
   "metadata": {},
   "outputs": [],
   "source": [
    "# Input: [1, 2, 3, 4, 5, 6, 7, 8, 9, 10]\n",
    "\n",
    "def check_even_numbers(alist):\n",
    "    found_even_numbers = [even_numbers for i in alist if i % 2 == 0]    \n",
    "    return found_even_numbers[0]"
   ]
  },
  {
   "cell_type": "code",
   "execution_count": 37,
   "id": "34c728e9",
   "metadata": {},
   "outputs": [
    {
     "data": {
      "text/plain": [
       "[2, 4, 6, 8, 10]"
      ]
     },
     "execution_count": 37,
     "metadata": {},
     "output_type": "execute_result"
    }
   ],
   "source": [
    "check_even_numbers(alist=[1, 2, 3, 4, 5, 6, 7, 8, 9, 10])"
   ]
  },
  {
   "cell_type": "raw",
   "id": "9e4f01b3",
   "metadata": {},
   "source": [
    "18. Implement a decorator function called ‘timer’ that measures the execution time of a function. The ‘timer’ decorator should print the time taken by the decorated function to execute. Use the ‘time’ module in Python to calculate the execution time."
   ]
  },
  {
   "cell_type": "code",
   "execution_count": 43,
   "id": "fabdf41d",
   "metadata": {},
   "outputs": [
    {
     "name": "stdout",
     "output_type": "stream",
     "text": [
      "Collecting timerNote: you may need to restart the kernel to use updated packages.\n",
      "\n",
      "  Downloading timer-0.2.2-py3-none-any.whl (7.8 kB)\n",
      "Installing collected packages: timer\n",
      "Successfully installed timer-0.2.2\n"
     ]
    }
   ],
   "source": [
    "pip install timer"
   ]
  },
  {
   "cell_type": "code",
   "execution_count": 45,
   "id": "f6f64cdf",
   "metadata": {},
   "outputs": [
    {
     "ename": "NameError",
     "evalue": "name 'timer' is not defined",
     "output_type": "error",
     "traceback": [
      "\u001b[1;31m---------------------------------------------------------------------------\u001b[0m",
      "\u001b[1;31mNameError\u001b[0m                                 Traceback (most recent call last)",
      "Cell \u001b[1;32mIn [45], line 3\u001b[0m\n\u001b[0;32m      1\u001b[0m \u001b[38;5;28;01mfrom\u001b[39;00m \u001b[38;5;21;01mtimeit\u001b[39;00m \u001b[38;5;28;01mimport\u001b[39;00m Timer\n\u001b[1;32m----> 3\u001b[0m \u001b[38;5;129m@timer\u001b[39m\n\u001b[0;32m      4\u001b[0m \u001b[38;5;28;01mdef\u001b[39;00m \u001b[38;5;21mcheck_even_numbers\u001b[39m(alist):\n\u001b[0;32m      5\u001b[0m     found_even_numbers \u001b[38;5;241m=\u001b[39m [even_numbers \u001b[38;5;28;01mfor\u001b[39;00m i \u001b[38;5;129;01min\u001b[39;00m alist \u001b[38;5;28;01mif\u001b[39;00m i \u001b[38;5;241m%\u001b[39m \u001b[38;5;241m2\u001b[39m \u001b[38;5;241m==\u001b[39m \u001b[38;5;241m0\u001b[39m]    \n\u001b[0;32m      6\u001b[0m     \u001b[38;5;28;01mreturn\u001b[39;00m found_even_numbers[\u001b[38;5;241m0\u001b[39m]\n",
      "\u001b[1;31mNameError\u001b[0m: name 'timer' is not defined"
     ]
    }
   ],
   "source": [
    "from timeit import Timer\n",
    "\n",
    "@timer\n",
    "def check_even_numbers(alist):\n",
    "    found_even_numbers = [even_numbers for i in alist if i % 2 == 0]    \n",
    "    return found_even_numbers[0]\n",
    "    time.sleep(2)"
   ]
  },
  {
   "cell_type": "raw",
   "id": "83444c8d",
   "metadata": {},
   "source": [
    "19. Write a function called ‘calculate_mean’ that takes a list of numbers as input and returns the mean (average) of the numbers. The function should calculate the mean using the sum of the numbers divided by the total count."
   ]
  },
  {
   "cell_type": "code",
   "execution_count": 50,
   "id": "c1411f1f",
   "metadata": {},
   "outputs": [],
   "source": [
    "def calculate_mean(numbers):\n",
    "    total = sum(numbers)\n",
    "    count = len(numbers)\n",
    "    mean = total / count\n",
    "    print(\"Mean:\",mean)"
   ]
  },
  {
   "cell_type": "code",
   "execution_count": 51,
   "id": "3bb0e958",
   "metadata": {},
   "outputs": [
    {
     "name": "stdout",
     "output_type": "stream",
     "text": [
      "Mean: 20.0\n"
     ]
    }
   ],
   "source": [
    "calculate_mean(numbers = [10, 15, 20, 25, 30])"
   ]
  },
  {
   "cell_type": "raw",
   "id": "3c5349ce",
   "metadata": {},
   "source": [
    "20. Write a function called ‘perform_hypothesis_test’ that takes two lists of numbers as input, representing two samples. The function should perform a two-sample t-test and return the p-value. Use the ‘scipy.stats’ module in Python to calculate the t-test and p-value."
   ]
  },
  {
   "cell_type": "code",
   "execution_count": 54,
   "id": "7d6b7784",
   "metadata": {},
   "outputs": [],
   "source": [
    "from scipy import stats\n",
    "\n",
    "def perform_hypothesis_test(sample1, sample2):\n",
    "    t_statistic, p_value = stats.ttest_ind(sample1, sample2)\n",
    "    print(\"p_value\", p_value)\n",
    "    print(\"t_statistic\", t_statistic)"
   ]
  },
  {
   "cell_type": "code",
   "execution_count": 55,
   "id": "fa86ac2a",
   "metadata": {},
   "outputs": [
    {
     "name": "stdout",
     "output_type": "stream",
     "text": [
      "p_value 0.09434977284243756\n",
      "t_statistic -1.8973665961010275\n"
     ]
    }
   ],
   "source": [
    "perform_hypothesis_test(sample1=[5, 10, 15, 20, 25], sample2=[10, 20, 30, 40, 50])"
   ]
  },
  {
   "cell_type": "code",
   "execution_count": null,
   "id": "c12d8c40",
   "metadata": {},
   "outputs": [],
   "source": []
  },
  {
   "cell_type": "code",
   "execution_count": null,
   "id": "3e4163eb",
   "metadata": {},
   "outputs": [],
   "source": []
  }
 ],
 "metadata": {
  "kernelspec": {
   "display_name": "Python 3 (ipykernel)",
   "language": "python",
   "name": "python3"
  },
  "language_info": {
   "codemirror_mode": {
    "name": "ipython",
    "version": 3
   },
   "file_extension": ".py",
   "mimetype": "text/x-python",
   "name": "python",
   "nbconvert_exporter": "python",
   "pygments_lexer": "ipython3",
   "version": "3.9.7"
  }
 },
 "nbformat": 4,
 "nbformat_minor": 5
}
